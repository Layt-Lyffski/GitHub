{
 "cells": [
  {
   "cell_type": "code",
   "execution_count": 1,
   "metadata": {},
   "outputs": [],
   "source": [
    "#imports\n",
    "import matplotlib.pyplot as plt\n",
    "import numpy as np"
   ]
  },
  {
   "cell_type": "markdown",
   "metadata": {},
   "source": [
    "# Mechine Learning Definition\n",
    "---\n",
    "_\"Field of study that gives computers the ability to learn without beging expilicty programmed.\"_ <br>~Arthur Samuel (1959)<br>\n",
    "_\"A computer program is said to learn from experience E with respect to some task T and some preformance measure P, if its preformence on T, as measured by P, improves with experiece E.\"_ <br> ~Tom Mitchell (1998)\n",
    "<br>\n",
    "### Supervised Learning\n",
    "Given the _\"right answers\"_ for each example in the data \n",
    "__Regression:__ Predict continuous valued output\n",
    "__Classification:__ Discrete valued output (0 or 1)\n",
    "<br>\n",
    "### Unsupervised Learning \n",
    "here is dataset can you finde some structure ex.(break same data type into two clusters) \n",
    "__Clustering__ used to  Organize Computing clusteres, Social network analysis, Market segmentation, Astronomical data analysis"
   ]
  },
  {
   "cell_type": "markdown",
   "metadata": {},
   "source": [
    "# Univariate Linear Regression\n",
    "---\n",
    "##### Hypothesis:\n",
    "$$h_\\theta(x^{(i)}) = \\theta_0 + \\theta_1 x^{(i)}$$\n",
    "##### Taxonomy:\n",
    "Training Set -> Learning Algorithm -> hypothesis(x) -> output: y\n",
    "##### Notation:\n",
    "m = Number of training examples<br>\n",
    "n = Number of features<br>\n",
    "x´s = \"input\" variable/features<br>\n",
    "y´s = \"output\" variable/feaures<br>\n",
    "$x^{(i)}$ = value x indexed with<br>\n",
    "$x^{(i)}$ = input (features) of $i^{th}$ trainig example<br>\n",
    "$x_j^{(i)}$ = value of feature $j$ in $i^{th}$ training example\n",
    "\n",
    "<br><br>\n",
    "\n",
    "## Cost function\n",
    "---\n",
    "##### Idea:\n",
    "Choose $\\theta_0$,$\\theta_1$ so that $h_\\theta (x)$ is close to $y$ for our traning examples $(x,y)$\n",
    "<br><br>\n",
    "##### Goal: \n",
    "$\\binom{minimize}{\\theta_0,\\theta_1}$ $J(\\theta_0,\\theta_1)$ => Squared error Cost function\n",
    "<br><br>\n",
    "##### Algorithm:\n",
    "$$J(\\theta_0,\\theta_1) = \\frac{1}{2m} \\sum\\limits_{i=1}^m(h\\theta_0(x^{(i)})-y^{(i)})^2$$"
   ]
  },
  {
   "cell_type": "markdown",
   "metadata": {},
   "source": [
    "__$$h_\\theta(x)$$__\n",
    "(for fixes $\\theta_1$, this is a function of $x$)"
   ]
  },
  {
   "cell_type": "code",
   "execution_count": 2,
   "metadata": {},
   "outputs": [
    {
     "ename": "IndexError",
     "evalue": "list index out of range",
     "output_type": "error",
     "traceback": [
      "\u001b[1;31m---------------------------------------------------------------------------\u001b[0m",
      "\u001b[1;31mIndexError\u001b[0m                                Traceback (most recent call last)",
      "\u001b[1;32m<ipython-input-2-63f4941d1362>\u001b[0m in \u001b[0;36m<module>\u001b[1;34m\u001b[0m\n\u001b[0;32m      8\u001b[0m \u001b[1;32mfor\u001b[0m \u001b[0mlt\u001b[0m \u001b[1;32min\u001b[0m \u001b[0mpoints\u001b[0m\u001b[1;33m:\u001b[0m\u001b[1;33m\u001b[0m\u001b[1;33m\u001b[0m\u001b[0m\n\u001b[0;32m      9\u001b[0m     \u001b[1;32mfor\u001b[0m \u001b[0mx\u001b[0m \u001b[1;32min\u001b[0m \u001b[0mlt\u001b[0m\u001b[1;33m:\u001b[0m\u001b[1;33m\u001b[0m\u001b[1;33m\u001b[0m\u001b[0m\n\u001b[1;32m---> 10\u001b[1;33m         \u001b[0mplt\u001b[0m\u001b[1;33m.\u001b[0m\u001b[0mscatter\u001b[0m\u001b[1;33m(\u001b[0m\u001b[0mpoints\u001b[0m\u001b[1;33m[\u001b[0m\u001b[0mx\u001b[0m\u001b[1;33m]\u001b[0m\u001b[1;33m,\u001b[0m\u001b[0mpoints\u001b[0m\u001b[1;33m[\u001b[0m\u001b[0mx\u001b[0m\u001b[1;33m]\u001b[0m\u001b[1;33m)\u001b[0m\u001b[1;33m\u001b[0m\u001b[1;33m\u001b[0m\u001b[0m\n\u001b[0m\u001b[0;32m     11\u001b[0m \u001b[0mplt\u001b[0m\u001b[1;33m.\u001b[0m\u001b[0mxlabel\u001b[0m\u001b[1;33m(\u001b[0m\u001b[1;34m\"x\"\u001b[0m\u001b[1;33m,\u001b[0m \u001b[0mcolor\u001b[0m\u001b[1;33m=\u001b[0m\u001b[1;34m\"r\"\u001b[0m\u001b[1;33m)\u001b[0m\u001b[1;33m\u001b[0m\u001b[1;33m\u001b[0m\u001b[0m\n\u001b[0;32m     12\u001b[0m \u001b[0mplt\u001b[0m\u001b[1;33m.\u001b[0m\u001b[0mylabel\u001b[0m\u001b[1;33m(\u001b[0m\u001b[1;34m\"y\"\u001b[0m\u001b[1;33m,\u001b[0m \u001b[0mcolor\u001b[0m\u001b[1;33m=\u001b[0m\u001b[1;34m\"r\"\u001b[0m\u001b[1;33m)\u001b[0m\u001b[1;33m\u001b[0m\u001b[1;33m\u001b[0m\u001b[0m\n",
      "\u001b[1;31mIndexError\u001b[0m: list index out of range"
     ]
    },
    {
     "data": {
      "image/png": "[encoded data removed]",
      "text/plain": [
       "<Figure size 432x288 with 1 Axes>"
      ]
     },
     "metadata": {
      "needs_background": "light"
     },
     "output_type": "display_data"
    }
   ],
   "source": [
    "fig = plt.figure()\n",
    "points = [[1,1],[2,2],[3,3]]\n",
    "ax = fig.add_subplot(1,1,1)\n",
    "x = np.linspace(0,5,100)\n",
    "plt.plot(x,x*1, \"-r\", label=\"y = 1x\") # best fit\n",
    "plt.plot(x,x*0.5, \"-b\", label=\"y = 0.5x\")\n",
    "plt.plot(x,x*0,\"-y\",label=\"y = 0x\")\n",
    "for lt in points:\n",
    "    for x in lt:\n",
    "        plt.scatter(points[x],points[x])\n",
    "plt.xlabel(\"x\", color=\"r\")\n",
    "plt.ylabel(\"y\", color=\"r\")\n",
    "plt.grid()\n",
    "plt.legend(loc=\"upper left\")\n",
    "plt.show()"
   ]
  },
  {
   "cell_type": "markdown",
   "metadata": {},
   "source": [
    "__$$J(\\theta_1)$$__\n",
    "(function of the parameter $\\theta_1$) so define the slope value in this example and slope is calulatet as you know from the school <br>\n",
    "corresponds to value of $\\theta_1 => y = x^2 + 1$ for the minimalization, so the best is 1 since it is the lowest point of parabola \n",
    "<br>$\\binom{minimize}{\\theta_1}$ $J(\\theta_1)$"
   ]
  },
  {
   "cell_type": "markdown",
   "metadata": {},
   "source": [
    "## Gradient Descent\n",
    "---\n",
    "##### Def:\n",
    "Gradient descent is an optimization algorithm used to minimize some function by iteratively moving in the direction of __steepest descent__ as __defined__ by the negative of the __gradient__. <br>\n",
    "• Need to choose $\\alpha$ <br>\n",
    "• Needs many iterations <br>\n",
    "• Workd well even when $n$ is large e.g $n = 10^6$\n",
    "<br><br>\n",
    "##### Idea:\n",
    "Init with some $\\theta_0, \\theta_1$ and keep changing $\\theta_0, \\theta_1$ to reduce $J(\\theta_0,\\theta_1)$ till return the minimum.\n",
    "<br><br>\n",
    "##### Goal: \n",
    "Return the $\\binom{min}{\\theta_0,\\theta_1} J(\\theta_0,\\theta_1)$ thus find the __Local Optimum__\n",
    "<br><br>\n",
    "##### Algorithm\n",
    "$\\color{purple}{def}$repeat until convergence{ \n",
    "$$\\theta_j := \\theta_j-\\alpha\\frac{\\delta}{\\delta\\theta_j} J(\\theta_0,\\theta_1)$$\n",
    "<br>\n",
    "$$\\frac{\\delta}{\\delta\\theta_j}\\color{green}{J(\\theta_0,\\theta_1)} = \\frac{\\delta}{\\delta\\theta_j}*\\color{green}{\\frac{1}{2m}\\sum_\\limits{i=1}^m (h_\\theta(x^{(i)})-y^{(i)})^2}$$\n",
    "<br>\n",
    "$$\\theta_0 := \\theta_0-\\alpha \\color{yellow}{\\frac{1}{m}}\\color{#2180ac}{\\sum_\\limits{i=1}^m (h_\\theta (x^{(i)}) -y^{(i)}}) * x^{(i)}$$\n",
    "$$\\color{yellow}{\\frac{\\delta}{\\delta\\theta_1}} \\color{#2180ac}{J(\\theta_0,\\theta_1)} * x^{(i)}$$\n",
    "<br>\n",
    "<br>\n",
    "    \n",
    " } (for j = 0 and j = 1) <=> __Simultaneously__ update $\\theta_0$ and $\\theta_1$ // blue = slope; green = minimalize; $\\alpha :=$ __learning rate__ step sizes<; on yellow you can cross out the $\\delta$; IMPORTANT yellow and blue denote one vector\n",
    "<br>\n",
    "For fixes $\\alpha$ rate: As approach to local minimum, gradient descent steps become smaller automatically, so no need to decrease $\\alpha$ over time\n",
    "<br><br>\n",
    "##### Vectorized the Equation\n",
    "<img src=\"pic/GD Overview.png\">\n",
    "<br><br>\n",
    "##### \"Batch\" \n",
    "Each step of gradient descent uses al lthe training examples, thus the sum of training examples."
   ]
  },
  {
   "cell_type": "code",
   "execution_count": null,
   "metadata": {},
   "outputs": [],
   "source": [
    "points = [(2,4),(4,2)]\n",
    "def F(w):\n",
    "   return sum((x * x - y)**2 for x, y in points)\n",
    "def dF(w):\n",
    "   return sum(2*(x*y-y)*x for x, y in points)\n",
    "# Gradient descent\n",
    "w = 0\n",
    "eta = 0.01\n",
    "for t in range(100):\n",
    "   value = F(w)\n",
    "   gradient = dF(w)\n",
    "   w = w -eta * gradient\n",
    "   print(\"iteration {}: w = {}, F(w) = {}\".format(t,w,value))"
   ]
  },
  {
   "cell_type": "markdown",
   "metadata": {},
   "source": [
    "## Multivariate Linear Regression\n",
    "---\n",
    "##### Hypothesis:\n",
    "$$h_\\theta(x) = \\theta_0+\\theta_1 x_1 + \\theta_2 x_2 + ... + \\theta_n x_n => \\theta^Tx$$\n",
    "<br><br>\n",
    "##### Algorithm:\n",
    "Repeat{$$\\theta_j := \\theta_j - \\alpha\\frac{1}{m}\\sum_\\limits{i=1}^m(h_\\theta(x^{(i)}-y^{(i)})x_j^{(i)}$$\n",
    "} simultaneously update $\\theta_j$ for j = 0,...,n)\n",
    "<br><br>\n",
    "##### Features Scaling:  \n",
    "##### Mean normalization:\n",
    "Replace $x_i$ with $x_i-\\mu_i$ to make features have approximately zero mean (Do not apply to $x_0 = 1$)<br>\n",
    "$x_1 \\leftarrow \\frac{x_1-\\mu_1}{s_1}$; where $\\mu$ is avg. value of x in traning set; $s$ is ragne, so (max-min)\n",
    "<br>\n",
    "$x_1 = \\frac{x_1-1000}{2000}$<br>\n",
    "$x_2 = \\frac{\\text{x_2} - 2}{5}$<br>\n",
    "$\\therefore -0.5 <= x_1 <= 0.5; -0.5 <= x_2 <= 0.5$<br>\n",
    "Gradient work correctly if after each iter of $\\binom{min}{\\theta}$J($\\theta$) the __value should decrease__ if not you should use lower __learning rate $\\alpha$__;<br>\n",
    "Threshold of iter vary for each case, so Do automatic convergence test function to ensure.<br>\n",
    "For sufficently small $\\alpha$, the $J(\\theta)$ should decrease on each iteration<br>\n",
    "• If $\\alpha$ is too small, then slow convergence<br>\n",
    "• If $\\alpha$ is too large, then $J(\\theta)$ may not decrease on each iternation; may not converge. <br>\n",
    "• Choose $\\alpha$ as $3\\times$ multiplier<br>\n",
    "__Debug:__ ploting that $J(\\theta)$ as the number of Interation.<br>\n",
    "<br>\n",
    "\n",
    "##### Polynomial Regression\n",
    "• Try to combinate the adquate features into one.\n",
    "• Use vary of function in the equation<br>\n",
    "$h_\\theta(x) = \\theta_0+\\theta_1(x)+\\theta(x)^2 $\n",
    "<br>\n",
    "$ h_\\theta(x) =\\theta_0+\\theta_1(x)+\\theta_2\\sqrt{(x)}$ \n",
    "<br>etc.<br>\n",
    "\n",
    "##### Normal Equation _(for non-linear problem, use GD)_\n",
    "Method to sove for $\\theta$ analytically. <br>\n",
    "• No need to choose $\\alpha$ <br>\n",
    "• Do not need to iterat <br>   \n",
    "• Slow if $n$ is very large e.g after n=10000 <br>\n",
    "$$\\theta = (X^T X)^{-1} X^T y$$<br>\n",
    "$m$ __examples__ $(x^{1},y^{1},...,(x^{(m)},y^{m})$ <br>while $n$ __features__\n",
    "where: <br>X is $m\\times(n+1)$ matrix, so X =\\begin{bmatrix}\n",
    "-& (x^{1})^T &-\\\\\n",
    "-& (x^{2})^T &-\\\\\n",
    "-& (x^{m})^T &-\\\\\n",
    "\\end{bmatrix} <br>\n",
    "<br> If $X^T X$ is non-invertible, then caused by:<br>\n",
    "• Redundant features (linearly dependent)\n",
    "    - e.g. x_1 = size in feet^2\n",
    "           x_2 = size in m^2\n",
    "• Too many features (e.g. $m <= n$)\n",
    "    - Deltete some features, or use regularization"
   ]
  },
  {
   "cell_type": "code",
   "execution_count": null,
   "metadata": {},
   "outputs": [],
   "source": []
  }
 ],
 "metadata": {
  "kernelspec": {
   "display_name": "Python 3",
   "language": "python",
   "name": "python3"
  },
  "language_info": {
   "codemirror_mode": {
    "name": "ipython",
    "version": 3
   },
   "file_extension": ".py",
   "mimetype": "text/x-python",
   "name": "python",
   "nbconvert_exporter": "python",
   "pygments_lexer": "ipython3",
   "version": "3.7.6"
  }
 },
 "nbformat": 4,
 "nbformat_minor": 4
}
