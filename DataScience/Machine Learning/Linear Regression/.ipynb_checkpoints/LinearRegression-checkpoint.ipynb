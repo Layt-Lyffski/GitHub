{
 "cells": [
  {
   "cell_type": "markdown",
   "metadata": {},
   "source": [
    "## Anova - ANalysis Of VAriance is a variability ratio\n",
    "---\n",
    "Null hypothesis := $H_0 = \\mu_1 = \\mu_2 = \\mu_3$ <br>\n",
    "red lines: Variability AMONG/BETWEEN the means <br>\n",
    "blue lines: Variability AROUND/WITHIN the distributions <br>\n",
    "<img src=\"pic\\anova.o.png\">"
   ]
  },
  {
   "cell_type": "markdown",
   "metadata": {},
   "source": [
    "# Linear Regression\n",
    "---\n",
    "General:<br>\n",
    "$$E(y) = \\beta_0 + \\beta_1x$$\n",
    "$$y = b_0 + b_1x$$\n",
    "Slope:$$ b_1 = \\frac{\\Sigma(x_i-\\bar{x})(y_i-\\bar{y})}{\\Sigma(x_i-\\bar{x})^2} === m = \\frac{\\bar{x}*\\bar{y}-\\bar{xy}}{(\\bar{x})^2-\\bar{x^2}}$$\n",
    "Intercept:$$b_0 = \\bar{y}-b_1\\bar{x}$$\n",
    "\n",
    "<img src=\"pic\\lr.rex.png\">\n",
    "\n",
    "## Fit and Coefficient of Determination\n",
    "---\n",
    "SST = SumSquareTotal split into SRR and SSE; <br>\n",
    "SSR = SumSquareRegression; <br>\n",
    "SSE = SumSquareError is the sumofsq residuals (errors), measure of variability of observation about regression<br>\n",
    "__SumSquare__ access with residual^2 if using mean then it is SST, if linearRegression then SSR<br>\n",
    "__Residual__ is the distance between the actual point and the prodictive one<br>\n",
    "Coefficient of Determination = $r^2 = \\frac{SSR}{SST}$ => SSR = SST - SSE<br>\n",
    "$y_i$ is the output<br>\n",
    "$\\hat{y_i}$ is the prodictive value -- __you have to solve it sucessfully__\n",
    "<img src=\"pic\\lr.ssert.png\"><br>\n",
    "\n",
    "\n",
    "if Standardized Regression the centroid is zero (you get rid of the $b_0$) => everything is related<br>\n",
    "==> you get the \"Einheit\" yk"
   ]
  },
  {
   "cell_type": "code",
   "execution_count": 18,
   "metadata": {},
   "outputs": [
    {
     "name": "stdout",
     "output_type": "stream",
     "text": [
      "Confidence PTC: 0.6456120345864387\n"
     ]
    },
    {
     "data": {
      "image/png": "[encoded data removed]",
      "text/plain": [
       "<Figure size 432x288 with 1 Axes>"
      ]
     },
     "metadata": {
      "needs_background": "light"
     },
     "output_type": "display_data"
    }
   ],
   "source": [
    "from statistics import mean\n",
    "import numpy as np\n",
    "import matplotlib.pyplot as plt\n",
    "import random\n",
    "\n",
    "# xs = np.array([1,2,3,4,5,6]) #input\n",
    "# ys = np.array([4.2,5,5.3,5.9,6,7]) #output\n",
    "\n",
    "def create_dataset(qty, variance, step=2, correlation=False):\n",
    "'''if variance high => the r^2 increse as well, sets are \"psychorandom\"'''    \n",
    "    var = 1\n",
    "    ys = []\n",
    "    for i in range (qty):\n",
    "        y = var + random.randrange(-variance, variance)\n",
    "        ys.append(y)\n",
    "        if correlation and correlation == True:\n",
    "            var += step\n",
    "        elif correlation and correlation ==  False:\n",
    "            var -= step\n",
    "    xs = [i for i in range(len(ys))]\n",
    "    return np.array(xs, dtype=np.float64), np.array(ys, dtype=np.float64)\n",
    "\n",
    "def bestSlope(xs,ys):\n",
    "    m, dividend, divisor = 0,0,0\n",
    "    for i in range(len(ys)):\n",
    "        dividend += (xs[i]-mean(xs)) * (ys[i]-mean(ys))\n",
    "        divisor += (xs[i]-mean(xs))**2\n",
    "        m = dividend / divisor\n",
    "    t = mean(ys) - m*mean(xs)\n",
    "    return m, t\n",
    "\n",
    "def squared_error(ys_orig, ys_regr_line):\n",
    "    return sum((ys_regr_line-ys_orig)**2)\n",
    "\n",
    "def coefficient_of_det(ys_orig, ys_regr_line):\n",
    "    ys_mean_line = [mean(ys_orig) for y in ys_orig]\n",
    "    sq_error_regr = squared_error(ys_orig, ys_regr_line)\n",
    "    sq_error_y_mean = squared_error(ys_orig, ys_mean_line)\n",
    "    return 1 - (sq_error_regr / sq_error_y_mean)\n",
    "    \n",
    "    \n",
    "xs, ys = create_dataset(40, 40, 2, True) \n",
    "m, t = bestSlope(xs,ys)\n",
    "regr_line = [(m*x)+t for x in xs]\n",
    "r_squared = coefficient_of_det(ys, regr_line)\n",
    "\n",
    "print(\"Confidence PTC: \"+str(r_squared))\n",
    "plt.scatter(xs,ys)\n",
    "plt.plot(regr_line, color=\"y\")\n",
    "plt.show()"
   ]
  }
 ],
 "metadata": {
  "kernelspec": {
   "display_name": "Python 3",
   "language": "python",
   "name": "python3"
  },
  "language_info": {
   "codemirror_mode": {
    "name": "ipython",
    "version": 3
   },
   "file_extension": ".py",
   "mimetype": "text/x-python",
   "name": "python",
   "nbconvert_exporter": "python",
   "pygments_lexer": "ipython3",
   "version": "3.8.2"
  }
 },
 "nbformat": 4,
 "nbformat_minor": 4
}
