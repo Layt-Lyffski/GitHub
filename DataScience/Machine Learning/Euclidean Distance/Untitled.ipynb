{
 "cells": [
  {
   "cell_type": "code",
   "execution_count": 36,
   "metadata": {},
   "outputs": [
    {
     "name": "stdout",
     "output_type": "stream",
     "text": [
      "[('r', 2)]\n",
      "r\n"
     ]
    },
    {
     "data": {
      "image/png": "[encoded data removed]",
      "text/plain": [
       "<Figure size 432x288 with 1 Axes>"
      ]
     },
     "metadata": {
      "needs_background": "light"
     },
     "output_type": "display_data"
    }
   ],
   "source": [
    "from collections import Counter\n",
    "import numpy as np\n",
    "import matplotlib.pyplot as plt\n",
    "\n",
    "dataset = {\"k\":[[1,2],[2,3],[3,1]], \"r\":[[6,5],[7,7],[8,6]]}\n",
    "new_features = [4,6]\n",
    "\n",
    "def k_nearest_neighbor(data, predict, k=3):\n",
    "    if len(data) < k: break # k have to be <= then the amount of the points of the given groups \n",
    "    distance = []\n",
    "    for group in data: # pointer group inside data; so \"k\" and \"r\"\n",
    "       for features in data[group]: # pointer features inside group; so the values\n",
    "          euclidean_distance = np.linalg.norm(np.array(features)-np.array(predict)) #norm use Pytagoras of linear algebra \n",
    "          distance.append([euclidean_distance, group]) #add each distance of the predict Q to the features P\n",
    "    pulls = [i[1] for i in sorted(distance)[:k]]  #sorted ascending till k so 3 times, since they can be more points than ks but not resverse more comparaison  to points than point\n",
    "    print(Counter(pulls).most_common(1)) #most_common so you care only of the one value that appear the most\n",
    "    pull_result = Counter(pulls).most_common(1)[0][0] \n",
    "    return pull_result #1st it print the group to which the prodict P \"belongs\"; 2nd it print how many of the k, of the group, were the nearest to the prodict P\n",
    "\n",
    "result = k_nearest_neighbor(dataset, new_features, k=3)\n",
    "print(result)\n",
    "\n",
    "[[plt.scatter(ii[0],ii[1], s=100, color=i) for ii in dataset[i]] for i in dataset]\n",
    "plt.scatter(new_features[0],new_features[1], s=50, color=result)\n",
    "plt.show()"
   ]
  },
  {
   "cell_type": "code",
   "execution_count": null,
   "metadata": {},
   "outputs": [],
   "source": []
  }
 ],
 "metadata": {
  "kernelspec": {
   "display_name": "Python 3",
   "language": "python",
   "name": "python3"
  },
  "language_info": {
   "codemirror_mode": {
    "name": "ipython",
    "version": 3
   },
   "file_extension": ".py",
   "mimetype": "text/x-python",
   "name": "python",
   "nbconvert_exporter": "python",
   "pygments_lexer": "ipython3",
   "version": "3.8.2"
  }
 },
 "nbformat": 4,
 "nbformat_minor": 4
}
