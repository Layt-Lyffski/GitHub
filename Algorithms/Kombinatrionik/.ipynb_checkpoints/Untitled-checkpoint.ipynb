{
 "cells": [
  {
   "cell_type": "markdown",
   "metadata": {},
   "source": [
    "## IEEE 754 \n",
    "1bit für vorzeichen\n",
    "52bit  matisse with hidden bit \n",
    "11bit exponent\n",
    "bei runden ist der ziffer von letzten die gescheichert ist angeschen (=mathematisches runden ist abhäning)\n",
    "\n",
    "\n"
   ]
  },
  {
   "cell_type": "markdown",
   "metadata": {},
   "source": [
    "## Irrational Zahlen\n",
    "quadrat einer ungeraden zahl ist auch eine ungrade Zahl (vice versa)\n",
    "um grenz wert zu bilden um am nähsten an irrationalen Zahlen mit Rationele Zahlen (begründen) nicht PC darstellbar <font color=\"green\">Babylonische Wurzelzeihen</font>"
   ]
  },
  {
   "cell_type": "markdown",
   "metadata": {},
   "source": [
    "# Mengen\n",
    "\":\" oder \"|\" hinter sind die Eigenschaften<br>\n",
    "|A|: Anzahl der Element von A<br>\n",
    "|A$\\times$B| = |A| * |B|<br>\n",
    "$\\mathbb{R}\\times\\mathbb{R}\\times\\mathbb{R}$ = $\\mathbb{R}^3$\n",
    "### Gaußsche Summenformel\n",
    "   Gauß (zerlige und manipulire): $$\\sum\\limits_{k=1}^n k= \\frac{n(n+1)}{2}$$<br>\n",
    "   <br>\n",
    "   #### Geumetrische Summenformel (q != 1)\n",
    "   $$\\sum\\limits_{k=0}^n q^k = (\\frac{1-q^n+1}{1-q}$$\n",
    "   ### Indexverschiebung\n",
    "   on the left lim n = (k=1+2) with first result of right sum and startmed is the result of last (k=20 + 2)\n",
    "   $$\\sum\\limits_{k=1}^{20} (k+2)^2 = \\sum\\limits_{n=3}^2 n^2$$\n",
    "       add: using gauß Summenformel have to substract the n in range 1:2 till 3\n",
    "  <br>Permutation = fakultät n! = n(n-1)!\n",
    "  \n",
    " "
   ]
  },
  {
   "cell_type": "markdown",
   "metadata": {},
   "source": [
    "# Kombinatronik\n",
    "\n",
    "## Permutationen mit Wiederholung\n",
    "#def: Umstellung in der Reihenfolge bei einer Zusammenstellung einer bestimmten Anzahl geordneter Größen\n",
    "$$\\frac{n!}{k_1! * k_2! * ... * k_s!} $$\n",
    "(<font color=\"grenn\">1</font>, <font color=\"blue\">2, 2</font>,<font color=\"red\"> 3, 3</font>) => $\\frac{5!}{2!2!1!}$\n",
    "<br>\n",
    "(<font color=\"grenn\">1</font>, <font color=\"blue\">2</font>, <font color=\"red\">3, 3, 3</font>) =>\n",
    "$\\frac{5!}{1!1!3!}$\n",
    "<br>\n",
    "(<font color=\"grenn\">1</font>, <font color=\"blue\">2</font>, <font color=\"red\">3</font>,<font color=\"yellow\"> 4,</font>) => \n",
    "$\\frac{4!}{1!1!1!1!}$\n",
    "<br>\n",
    "<br>\n",
    "## Varation mit Wiederholung\n",
    "Variation ohne Wiederholung - Grundsätzlich: if 7 obj, but arrange in 3 => $\\frac{7!}{4!}=\\frac{7*6*5*4*3*2*1}{4*3*2*1}$ Linke site auf wegstreichen GENERAL: $\\frac{n!}{n-k}!$ do not remember but think\n",
    "<br>\n",
    "Varriation mit Wiederholung - Grundsätzlich: if 4 obj in range of 0 to 9 mean 10 possible inputs => max possible $10^4$ varation\n",
    "\n",
    "## Kombinationen\n",
    " n = obj, k = auswahl, Rheinfolge unwichtig\n",
    " $$\\frac{n!}{(n-k)!k!} =  \\begin{pmatrix}\n",
    " n \\\\ k\n",
    " \\end{pmatrix} =  Binominal Koeffizent\n",
    "$$\n",
    "<br>\n",
    "$$\n",
    " \\begin{pmatrix}\n",
    " 7 \\\\ 3\n",
    "\\end{pmatrix} =  \\frac{7!}{(7-3)!3!} = \\frac{n(n-1)(n-2)}{1*2*3* ... * k} \n",
    "$$in top is limted to bottom amount if botton after wegstrechen amount = 3 then the top amount also = 3 just reverse <br> bei programming you the \"von Hand\" gleichung um möglich weinger rechnungen zu PC stellen\n",
    "$$\n",
    " \\begin{pmatrix}\n",
    " n \\\\ n  \n",
    "\\end{pmatrix} \n",
    "= 1 = \n",
    "\\begin{pmatrix}\n",
    " n \\\\ 0\n",
    "\\end{pmatrix}\n",
    "$$\n",
    "  1 6 15 20 15 6 1 ==<br>\n",
    "(6,0) (6,1) (6,2) (6,3) (6,4) (6,5) (6,6)\n",
    "$$\n",
    "Symmetie:= \\begin{pmatrix}\n",
    " n \\\\ k\n",
    "\\end{pmatrix} =\n",
    " \\begin{pmatrix}\n",
    " k \\\\ n-k\n",
    "\\end{pmatrix}\n",
    "$$\n",
    "\n",
    "\n",
    "\n",
    "\n",
    "\n",
    "\n",
    "\n",
    "\n"
   ]
  },
  {
   "cell_type": "code",
   "execution_count": 0,
   "metadata": {},
   "outputs": [],
   "source": [
    "   "
   ]
  }
 ],
 "metadata": {
  "kernelspec": {
   "display_name": "Python 3",
   "language": "python",
   "name": "python3"
  },
  "language_info": {
   "codemirror_mode": {
    "name": "ipython",
    "version": 3
   },
   "file_extension": ".py",
   "mimetype": "text/x-python",
   "name": "python",
   "nbconvert_exporter": "python",
   "pygments_lexer": "ipython3",
   "version": "3.7.6"
  }
 },
 "nbformat": 4,
 "nbformat_minor": 4
}
